{
 "cells": [
  {
   "cell_type": "code",
   "execution_count": 1,
   "metadata": {},
   "outputs": [
    {
     "output_type": "stream",
     "name": "stdout",
     "text": [
      "2.3.1\n"
     ]
    }
   ],
   "source": [
    "import tensorflow as tf\n",
    "\n",
    "print(tf.__version__)"
   ]
  },
  {
   "cell_type": "code",
   "execution_count": null,
   "metadata": {},
   "outputs": [],
   "source": []
  }
 ],
 "metadata": {
  "kernelspec": {
   "name": "Python 3.8.5 64-bit ('almeng': conda)",
   "display_name": "Python 3.8.5 64-bit ('almeng': conda)",
   "metadata": {
    "interpreter": {
     "hash": "c0e9219398f0c072df419aa4ee86096be81f45611de9f7748a1fd5cdd08b9f5e"
    }
   }
  }
 },
 "nbformat": 4,
 "nbformat_minor": 4
}